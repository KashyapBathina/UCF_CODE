{
 "cells": [
  {
   "cell_type": "markdown",
   "id": "366cf73c",
   "metadata": {},
   "source": [
    "# CAP 4611 - Algorithms for Machine Learning\n",
    "## Instructor: Aakash Kumar\n",
    "### University of Central Florida"
   ]
  },
  {
   "cell_type": "markdown",
   "id": "33c899d2",
   "metadata": {},
   "source": [
    "## Python - The Core of Machine Learning"
   ]
  },
  {
   "cell_type": "markdown",
   "id": "a91ee763",
   "metadata": {},
   "source": [
    "### Why Python?\n",
    "- **Simplicity & Readability**: Easy to learn and understand, ideal for rapid prototyping.\n",
    "- **Extensive Libraries**: A vast collection of libraries and frameworks tailored for machine learning.\n",
    "- **Community Support**: Large and active community contributing to continuous improvements and resources."
   ]
  },
  {
   "cell_type": "markdown",
   "id": "951c504a",
   "metadata": {},
   "source": [
    "### Key Data Structures"
   ]
  },
  {
   "cell_type": "markdown",
   "id": "4ed5fc0a",
   "metadata": {},
   "source": [
    "#### Lists - Ordered Mutable Collections"
   ]
  },
  {
   "cell_type": "code",
   "execution_count": 3,
   "id": "758ab7c3",
   "metadata": {},
   "outputs": [
    {
     "name": "stdout",
     "output_type": "stream",
     "text": [
      "[1, 2, 3]\n"
     ]
    }
   ],
   "source": [
    "my_list = [1, 2, 3]\n",
    "print(my_list)"
   ]
  },
  {
   "cell_type": "code",
   "execution_count": 5,
   "id": "16884373-4e43-4bfe-9ba8-e62115f8b872",
   "metadata": {},
   "outputs": [
    {
     "name": "stdout",
     "output_type": "stream",
     "text": [
      "[1, 2, 3, 4]\n"
     ]
    }
   ],
   "source": [
    "my_list.append(4)\n",
    "print(my_list)"
   ]
  },
  {
   "cell_type": "code",
   "execution_count": 7,
   "id": "488108e8-9976-47dc-a85e-760b416221a2",
   "metadata": {},
   "outputs": [
    {
     "name": "stdout",
     "output_type": "stream",
     "text": [
      "[1, 'a', 2, 3, 4]\n"
     ]
    }
   ],
   "source": [
    "my_list.insert(1, 'a')\n",
    "print(my_list)"
   ]
  },
  {
   "cell_type": "code",
   "execution_count": 9,
   "id": "84fe3e91-fae0-49db-9151-74abbe17f3c3",
   "metadata": {},
   "outputs": [
    {
     "name": "stdout",
     "output_type": "stream",
     "text": [
      "[1, 'a', 3, 4]\n"
     ]
    }
   ],
   "source": [
    "my_list.remove(2)\n",
    "print(my_list)"
   ]
  },
  {
   "cell_type": "code",
   "execution_count": 11,
   "id": "ba8d44b4-e84b-4410-a805-b804a8edc9dd",
   "metadata": {},
   "outputs": [
    {
     "name": "stdout",
     "output_type": "stream",
     "text": [
      "popped_element 4\n",
      "my_list [1, 'a', 3]\n"
     ]
    }
   ],
   "source": [
    "popped_element = my_list.pop()\n",
    "print('popped_element',popped_element)\n",
    "print('my_list',my_list)"
   ]
  },
  {
   "cell_type": "code",
   "execution_count": 13,
   "id": "afba6763-9c57-4c15-b690-70a962a447e1",
   "metadata": {},
   "outputs": [
    {
     "name": "stdout",
     "output_type": "stream",
     "text": [
      "[1, 'a', 3]\n"
     ]
    }
   ],
   "source": [
    "new_list = [1,2,3,4,5,6,7]\n",
    "sliced_list = new_list[1:3]\n",
    "print(my_list)  # Output after operations"
   ]
  },
  {
   "cell_type": "markdown",
   "id": "8d513f8e",
   "metadata": {},
   "source": [
    "#### Dictionaries - Key-Value Pairs Mutable"
   ]
  },
  {
   "cell_type": "code",
   "execution_count": null,
   "id": "e7bc564e",
   "metadata": {},
   "outputs": [],
   "source": [
    "my_dict = {'name': 'Alice', 'age': 25}\n",
    "print(my_dict)"
   ]
  },
  {
   "cell_type": "code",
   "execution_count": null,
   "id": "308a6259-e6d1-44d3-ac4b-a6ec17acfbf8",
   "metadata": {},
   "outputs": [],
   "source": [
    "my_dict['age'] = 26\n",
    "print(my_dict)"
   ]
  },
  {
   "cell_type": "code",
   "execution_count": null,
   "id": "a7d1c6e4-02a9-4d9a-8d0f-74c7c7a129c4",
   "metadata": {},
   "outputs": [],
   "source": [
    "my_dict['city'] = 'Orlando'\n",
    "print(my_dict)"
   ]
  },
  {
   "cell_type": "code",
   "execution_count": null,
   "id": "f9c9b422-ce5a-4c8f-8123-a45648cde13f",
   "metadata": {},
   "outputs": [],
   "source": [
    "del my_dict['age']\n",
    "print(my_dict)"
   ]
  },
  {
   "cell_type": "code",
   "execution_count": null,
   "id": "dd58f136-2bcc-4101-b0b6-94098bedfcf5",
   "metadata": {},
   "outputs": [],
   "source": [
    "keys = my_dict.keys()\n",
    "print(keys)"
   ]
  },
  {
   "cell_type": "code",
   "execution_count": null,
   "id": "f96f508e-0d9c-4060-b8f9-4a110614a1e9",
   "metadata": {},
   "outputs": [],
   "source": [
    "values = my_dict.values()\n",
    "print(values)  # Output after operations"
   ]
  },
  {
   "cell_type": "markdown",
   "id": "baa81add",
   "metadata": {},
   "source": [
    "#### Sets - Unordered Mutable Collections"
   ]
  },
  {
   "cell_type": "code",
   "execution_count": null,
   "id": "201b5d52",
   "metadata": {},
   "outputs": [],
   "source": [
    "my_set = {1, 2, 3}\n",
    "print(my_set)"
   ]
  },
  {
   "cell_type": "code",
   "execution_count": null,
   "id": "a2ceac69-5523-47ee-92a8-a93fbb2223b7",
   "metadata": {},
   "outputs": [],
   "source": [
    "my_set.add(4)\n",
    "print(my_set)\n"
   ]
  },
  {
   "cell_type": "code",
   "execution_count": null,
   "id": "69971b91-9920-4396-a663-5ac57f46c7bc",
   "metadata": {},
   "outputs": [],
   "source": [
    "my_set.add(2)\n",
    "print(my_set)"
   ]
  },
  {
   "cell_type": "code",
   "execution_count": null,
   "id": "47c93031-a8b0-44e5-849f-234bf0b9b9bc",
   "metadata": {},
   "outputs": [],
   "source": [
    "my_set.remove(2)\n",
    "print(my_set)"
   ]
  },
  {
   "cell_type": "code",
   "execution_count": null,
   "id": "3e406bb4-30e0-4591-98c5-4ca754168e30",
   "metadata": {},
   "outputs": [],
   "source": [
    "my_set.remove(5)\n",
    "print(my_set)"
   ]
  },
  {
   "cell_type": "code",
   "execution_count": null,
   "id": "e60bafd9-431d-4c49-a786-9f10a3446013",
   "metadata": {},
   "outputs": [],
   "source": [
    "my_set.discard(5)\n",
    "print(my_set)"
   ]
  },
  {
   "cell_type": "code",
   "execution_count": null,
   "id": "f9711e13-7536-450a-8808-70c0c02341d9",
   "metadata": {},
   "outputs": [],
   "source": [
    "another_set = {3, 4, 5}\n",
    "union_set = my_set.union(another_set)\n",
    "print(union_set)\n"
   ]
  },
  {
   "cell_type": "code",
   "execution_count": null,
   "id": "e446f5fa-1ef1-4fa3-9931-69790c377f67",
   "metadata": {},
   "outputs": [],
   "source": [
    "intersection_set = my_set.intersection(another_set)\n",
    "print(intersection_set)"
   ]
  },
  {
   "cell_type": "markdown",
   "id": "f61abe37",
   "metadata": {},
   "source": [
    "#### Tuples - Immutable Ordered Collections"
   ]
  },
  {
   "cell_type": "code",
   "execution_count": null,
   "id": "16fc7702",
   "metadata": {},
   "outputs": [],
   "source": [
    "my_tuple = (1, 2, 3)\n",
    "print(my_tuple)"
   ]
  },
  {
   "cell_type": "code",
   "execution_count": null,
   "id": "216fd823-6194-4889-a70c-4e9e646eab6b",
   "metadata": {},
   "outputs": [],
   "source": [
    "element = my_tuple[0]\n",
    "print(element)"
   ]
  },
  {
   "cell_type": "code",
   "execution_count": null,
   "id": "7db75dd8-f547-4678-9c0c-da413936437a",
   "metadata": {},
   "outputs": [],
   "source": [
    "print(my_tuple)"
   ]
  },
  {
   "cell_type": "code",
   "execution_count": null,
   "id": "ac5a1323-d787-4e0c-bee6-a5f86389939b",
   "metadata": {},
   "outputs": [],
   "source": [
    "sub_tuple = my_tuple[1:3]\n",
    "print(sub_tuple)"
   ]
  },
  {
   "cell_type": "code",
   "execution_count": null,
   "id": "9aa02471-2e34-4605-8c81-c3e504a36331",
   "metadata": {},
   "outputs": [],
   "source": [
    "new_tuple = my_tuple + (4, 5)\n",
    "print(new_tuple)"
   ]
  },
  {
   "cell_type": "code",
   "execution_count": null,
   "id": "d9d75c1d-75b4-41dc-b848-b1e20055eb81",
   "metadata": {},
   "outputs": [],
   "source": [
    "a, b, c = my_tuple # my_tuple = 1,2,3\n",
    "print(a, b, c)"
   ]
  },
  {
   "cell_type": "markdown",
   "id": "30710d53",
   "metadata": {},
   "source": [
    "## NumPy - The Foundation for Numerical Computing"
   ]
  },
  {
   "cell_type": "code",
   "execution_count": null,
   "id": "7ee72e5e",
   "metadata": {},
   "outputs": [],
   "source": [
    "import numpy as np\n",
    "arr = np.array([1, 2, 3])\n",
    "print(arr)"
   ]
  },
  {
   "cell_type": "code",
   "execution_count": null,
   "id": "16f4f6af-8d42-42c1-b636-56745d7faa34",
   "metadata": {},
   "outputs": [],
   "source": [
    "new_array = arr + 10\n",
    "print(new_array)  # Example of broadcasting"
   ]
  },
  {
   "cell_type": "code",
   "execution_count": null,
   "id": "2fd27931",
   "metadata": {},
   "outputs": [],
   "source": [
    "arr1 = np.array([1, 2])\n",
    "arr2 = np.array([3, 4])\n",
    "dot_product = np.dot(arr1, arr2)\n",
    "print(f'Dot Product: {dot_product}')"
   ]
  },
  {
   "cell_type": "code",
   "execution_count": null,
   "id": "9e73afa7-f824-4cab-b6aa-284faec69340",
   "metadata": {},
   "outputs": [],
   "source": [
    "matrix = np.array([[1, 2], [3, 4]])\n",
    "inverse_matrix = np.linalg.inv(matrix)\n",
    "print(f'Inverse Matrix:\\n{inverse_matrix}')"
   ]
  },
  {
   "cell_type": "markdown",
   "id": "4693faeb",
   "metadata": {},
   "source": [
    "### Reshaping and Resizing Arrays"
   ]
  },
  {
   "cell_type": "code",
   "execution_count": 39,
   "id": "7b2bdad1",
   "metadata": {},
   "outputs": [
    {
     "name": "stdout",
     "output_type": "stream",
     "text": [
      "[[1 2 3]\n",
      " [4 5 6]]\n"
     ]
    }
   ],
   "source": [
    "import random\n",
    "import numpy as np\n",
    "import statistics\n",
    "\n",
    "arr = np.array([1, 2, 3, 4, 5, 6])\n",
    "reshaped_arr = arr.reshape(2, 3)\n",
    "print(reshaped_arr)"
   ]
  },
  {
   "cell_type": "markdown",
   "id": "70c0b565",
   "metadata": {},
   "source": [
    "## Introduction to Matplotlib"
   ]
  },
  {
   "cell_type": "code",
   "execution_count": null,
   "id": "26c4c7c0",
   "metadata": {},
   "outputs": [],
   "source": [
    "import matplotlib.pyplot as plt\n",
    "x = [1, 2, 3, 4, 5]\n",
    "y = [1, 4, 9, 16, 25]\n",
    "plt.plot(x, y)\n",
    "plt.title('Simple Line Plot')\n",
    "plt.xlabel('X-axis')\n",
    "plt.ylabel('Y-axis')\n",
    "plt.show()"
   ]
  },
  {
   "cell_type": "markdown",
   "id": "bf78e4e7",
   "metadata": {},
   "source": [
    "### Customizing Plots"
   ]
  },
  {
   "cell_type": "code",
   "execution_count": null,
   "id": "ba2fa591",
   "metadata": {},
   "outputs": [],
   "source": [
    "plt.plot(x, y, color='red', marker='o', linestyle='--')\n",
    "plt.title('Customized Line Plot')\n",
    "plt.xlabel('X-axis')\n",
    "plt.ylabel('Y-axis')\n",
    "plt.grid(True)\n",
    "plt.show()"
   ]
  },
  {
   "cell_type": "markdown",
   "id": "f2e90be0",
   "metadata": {},
   "source": [
    "## Introduction to pandas"
   ]
  },
  {
   "cell_type": "code",
   "execution_count": null,
   "id": "a7aba519",
   "metadata": {},
   "outputs": [],
   "source": [
    "import pandas as pd\n",
    "s = pd.Series([1, 2, 3, 4, 5])\n",
    "print(s)"
   ]
  },
  {
   "cell_type": "code",
   "execution_count": null,
   "id": "180b2b86",
   "metadata": {},
   "outputs": [],
   "source": [
    "data = {'Name': ['Alice', 'Bob', 'Charlie'], 'Age': [25, 30, 35], 'City': ['New York', 'Los Angeles', 'Chicago']}\n",
    "df = pd.DataFrame(data)\n",
    "print(df)"
   ]
  },
  {
   "cell_type": "markdown",
   "id": "5d918b6b",
   "metadata": {},
   "source": [
    "### Basic Operations with DataFrames"
   ]
  },
  {
   "cell_type": "code",
   "execution_count": null,
   "id": "d0903c7b",
   "metadata": {},
   "outputs": [],
   "source": [
    "df_filtered = df[df['Age'] > 30]\n",
    "print(df_filtered)"
   ]
  },
  {
   "cell_type": "code",
   "execution_count": null,
   "id": "04d52dc6-ec6c-4ddd-b4bf-dee0440a8380",
   "metadata": {},
   "outputs": [],
   "source": []
  }
 ],
 "metadata": {
  "kernelspec": {
   "display_name": "Python 3 (ipykernel)",
   "language": "python",
   "name": "python3"
  },
  "language_info": {
   "codemirror_mode": {
    "name": "ipython",
    "version": 3
   },
   "file_extension": ".py",
   "mimetype": "text/x-python",
   "name": "python",
   "nbconvert_exporter": "python",
   "pygments_lexer": "ipython3",
   "version": "3.12.4"
  }
 },
 "nbformat": 4,
 "nbformat_minor": 5
}
